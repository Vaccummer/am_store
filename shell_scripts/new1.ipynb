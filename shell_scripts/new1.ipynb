{
 "cells": [
  {
   "cell_type": "code",
   "execution_count": null,
   "metadata": {},
   "outputs": [
    {
     "name": "stdout",
     "output_type": "stream",
     "text": [
      "\n",
      "alist-freebsd-amd64\n"
     ]
    }
   ],
   "source": [
    "import pathlib\n",
    "a = pathlib.Path('/home/am/softwares/PyLib/am_ssazsdasdore/ha/alist-freebsd-amd64.tar.gz')\n",
    "print(a.suffix)\n",
    "print(a.stem)"
   ]
  }
 ],
 "metadata": {
  "kernelspec": {
   "display_name": "dl",
   "language": "python",
   "name": "python3"
  },
  "language_info": {
   "codemirror_mode": {
    "name": "ipython",
    "version": 3
   },
   "file_extension": ".py",
   "mimetype": "text/x-python",
   "name": "python",
   "nbconvert_exporter": "python",
   "pygments_lexer": "ipython3",
   "version": "3.10.15"
  }
 },
 "nbformat": 4,
 "nbformat_minor": 2
}
